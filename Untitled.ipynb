{
 "cells": [
  {
   "cell_type": "markdown",
   "id": "d242e602-195b-4f6b-b375-e28637c2d4b7",
   "metadata": {},
   "source": [
    "# 実験"
   ]
  },
  {
   "cell_type": "markdown",
   "id": "8cbbe77a-a04e-4807-8094-f6b28ee1924e",
   "metadata": {},
   "source": [
    "- とりあえずデータを眺めてみる。\n"
   ]
  },
  {
   "cell_type": "markdown",
   "id": "1bc63389-466a-4cae-8d5d-903f127b6cd6",
   "metadata": {},
   "source": [
    "- **ディレクトリツリー** "
   ]
  },
  {
   "cell_type": "markdown",
   "id": "ca3625dd-1dce-4bfb-bd83-b61433a458bb",
   "metadata": {
    "tags": []
   },
   "source": [
    "```\n",
    ".\n",
    "├── Untitled.ipynb\n",
    "├── submit_sample.csv\n",
    "├── test.csv\n",
    "└── train.csv\n",
    "```\n"
   ]
  },
  {
   "cell_type": "code",
   "execution_count": null,
   "id": "6539a1c4-7246-425f-acae-24bdf855a69d",
   "metadata": {},
   "outputs": [],
   "source": []
  }
 ],
 "metadata": {
  "kernelspec": {
   "display_name": "Python 3 (ipykernel)",
   "language": "python",
   "name": "python3"
  },
  "language_info": {
   "codemirror_mode": {
    "name": "ipython",
    "version": 3
   },
   "file_extension": ".py",
   "mimetype": "text/x-python",
   "name": "python",
   "nbconvert_exporter": "python",
   "pygments_lexer": "ipython3",
   "version": "3.11.3"
  }
 },
 "nbformat": 4,
 "nbformat_minor": 5
}
